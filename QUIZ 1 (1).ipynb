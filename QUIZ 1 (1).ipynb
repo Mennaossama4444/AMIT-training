{
 "cells": [
  {
   "cell_type": "markdown",
   "metadata": {
    "collapsed": true
   },
   "source": [
    "# QUIZ\n",
    "Let's test your knowledge!"
   ]
  },
  {
   "cell_type": "markdown",
   "metadata": {},
   "source": [
    "_____\n",
    "**Use <code>for</code>, .split(), and <code>if</code> to create a Statement that will print out words that start with 's':**"
   ]
  },
  {
   "cell_type": "code",
   "execution_count": 41,
   "metadata": {},
   "outputs": [],
   "source": [
    "st = 'Print only the words that start with s in this sentence'"
   ]
  },
  {
   "cell_type": "code",
   "execution_count": 45,
   "metadata": {},
   "outputs": [
    {
     "ename": "TypeError",
     "evalue": "unsupported operand type(s) for &: 'str' and 'int'",
     "output_type": "error",
     "traceback": [
      "\u001b[1;31m---------------------------------------------------------------------------\u001b[0m",
      "\u001b[1;31mTypeError\u001b[0m                                 Traceback (most recent call last)",
      "Input \u001b[1;32mIn [45]\u001b[0m, in \u001b[0;36m<cell line: 2>\u001b[1;34m()\u001b[0m\n\u001b[0;32m      1\u001b[0m \u001b[38;5;66;03m#Code here\u001b[39;00m\n\u001b[0;32m      2\u001b[0m \u001b[38;5;28;01mfor\u001b[39;00m letter \u001b[38;5;129;01min\u001b[39;00m st:\n\u001b[1;32m----> 3\u001b[0m     \u001b[38;5;28;01mif\u001b[39;00m \u001b[43mst\u001b[49m\u001b[43m \u001b[49m\u001b[38;5;241;43m&\u001b[39;49m\u001b[38;5;241;43m2\u001b[39;49m\u001b[38;5;241m==\u001b[39m\u001b[38;5;241m0\u001b[39m:\n\u001b[0;32m      4\u001b[0m         \u001b[38;5;28mprint\u001b[39m (letter)\n",
      "\u001b[1;31mTypeError\u001b[0m: unsupported operand type(s) for &: 'str' and 'int'"
     ]
    }
   ],
   "source": [
    "#Code here\n",
    "for letter in st:\n",
    "    if st &2==0:\n",
    "        print (letter)"
   ]
  },
  {
   "cell_type": "markdown",
   "metadata": {},
   "source": [
    "**Use range() to print all the even numbers from 0 to 10.**"
   ]
  },
  {
   "cell_type": "code",
   "execution_count": 1,
   "metadata": {},
   "outputs": [
    {
     "name": "stdout",
     "output_type": "stream",
     "text": [
      "0\n",
      "2\n",
      "4\n",
      "6\n",
      "8\n",
      "10\n"
     ]
    }
   ],
   "source": [
    "for i in range(11): ### for loop of range 0 to 10\n",
    "    if i%2==0:     ### check the even \n",
    "        print(i)"
   ]
  },
  {
   "cell_type": "markdown",
   "metadata": {},
   "source": [
    "___\n",
    "**Use a List Comprehension to create a list of all numbers between 1 and 50 that are divisible by 3.**"
   ]
  },
  {
   "cell_type": "code",
   "execution_count": 17,
   "metadata": {},
   "outputs": [
    {
     "ename": "TypeError",
     "evalue": "'int' object is not subscriptable",
     "output_type": "error",
     "traceback": [
      "\u001b[1;31m---------------------------------------------------------------------------\u001b[0m",
      "\u001b[1;31mTypeError\u001b[0m                                 Traceback (most recent call last)",
      "Input \u001b[1;32mIn [17]\u001b[0m, in \u001b[0;36m<cell line: 3>\u001b[1;34m()\u001b[0m\n\u001b[0;32m      1\u001b[0m \u001b[38;5;66;03m#Code Here\u001b[39;00m\n\u001b[0;32m      2\u001b[0m x\u001b[38;5;241m=\u001b[39m\u001b[38;5;28mlist\u001b[39m(\u001b[38;5;28mrange\u001b[39m(\u001b[38;5;241m1\u001b[39m,\u001b[38;5;241m51\u001b[39m))\n\u001b[1;32m----> 3\u001b[0m x\u001b[38;5;241m=\u001b[39m[num[x] \u001b[38;5;28;01mfor\u001b[39;00m num \u001b[38;5;129;01min\u001b[39;00m x]\n",
      "Input \u001b[1;32mIn [17]\u001b[0m, in \u001b[0;36m<listcomp>\u001b[1;34m(.0)\u001b[0m\n\u001b[0;32m      1\u001b[0m \u001b[38;5;66;03m#Code Here\u001b[39;00m\n\u001b[0;32m      2\u001b[0m x\u001b[38;5;241m=\u001b[39m\u001b[38;5;28mlist\u001b[39m(\u001b[38;5;28mrange\u001b[39m(\u001b[38;5;241m1\u001b[39m,\u001b[38;5;241m51\u001b[39m))\n\u001b[1;32m----> 3\u001b[0m x\u001b[38;5;241m=\u001b[39m[\u001b[43mnum\u001b[49m\u001b[43m[\u001b[49m\u001b[43mx\u001b[49m\u001b[43m]\u001b[49m \u001b[38;5;28;01mfor\u001b[39;00m num \u001b[38;5;129;01min\u001b[39;00m x]\n",
      "\u001b[1;31mTypeError\u001b[0m: 'int' object is not subscriptable"
     ]
    }
   ],
   "source": [
    "#Code Here\n",
    "x=list(range(1,51))\n",
    "x=[num[x] for num in x]\n"
   ]
  },
  {
   "cell_type": "markdown",
   "metadata": {},
   "source": [
    "_____\n",
    "**Go through the string below and if the length of a word is even print \"even!\"**"
   ]
  },
  {
   "cell_type": "code",
   "execution_count": 4,
   "metadata": {},
   "outputs": [],
   "source": [
    "st = 'Print every word in this sentence that has an even number of letters'"
   ]
  },
  {
   "cell_type": "code",
   "execution_count": 70,
   "metadata": {},
   "outputs": [
    {
     "name": "stdout",
     "output_type": "stream",
     "text": [
      "even\n",
      "even\n",
      "even\n",
      "even\n",
      "even\n",
      "even\n",
      "even\n",
      "even\n",
      "even\n"
     ]
    }
   ],
   "source": [
    "#Code in this cell\n",
    "list=['print','every','word','in','this','sentence','that','has','an','even','number','of','letters'] ###make the sentence list\n",
    "x=[len(list[0]),len(list[1]),len(list[2]),len(list[3]),len(list[4]),len(list[5]),len(list[6]),len(list[7]),len(list[8]),len(list[9]),len(list[10]),len(list[11]),len(list[12])]\n",
    "for i in x:\n",
    "    if i%2==0:\n",
    "        print('even')\n"
   ]
  },
  {
   "cell_type": "markdown",
   "metadata": {},
   "source": [
    "____\n",
    "**Write a program that prints the integers from 1 to 100. But for multiples of three print \"Fizz\" instead of the number, and for the multiples of five print \"Buzz\". For numbers which are multiples of both three and five print \"FizzBuzz\".**"
   ]
  },
  {
   "cell_type": "code",
   "execution_count": 34,
   "metadata": {},
   "outputs": [
    {
     "name": "stdout",
     "output_type": "stream",
     "text": [
      "1\n",
      "2\n",
      "3\n",
      "Fizz\n",
      "4\n",
      "5\n",
      "Buzz\n",
      "6\n",
      "Fizz\n",
      "7\n",
      "8\n",
      "9\n",
      "Fizz\n",
      "10\n",
      "Buzz\n",
      "11\n",
      "12\n",
      "Fizz\n",
      "13\n",
      "14\n",
      "15\n",
      "FizzBuzz\n",
      "16\n",
      "17\n",
      "18\n",
      "Fizz\n",
      "19\n",
      "20\n",
      "Buzz\n",
      "21\n",
      "Fizz\n",
      "22\n",
      "23\n",
      "24\n",
      "Fizz\n",
      "25\n",
      "Buzz\n",
      "26\n",
      "27\n",
      "Fizz\n",
      "28\n",
      "29\n",
      "30\n",
      "FizzBuzz\n",
      "31\n",
      "32\n",
      "33\n",
      "Fizz\n",
      "34\n",
      "35\n",
      "Buzz\n",
      "36\n",
      "Fizz\n",
      "37\n",
      "38\n",
      "39\n",
      "Fizz\n",
      "40\n",
      "Buzz\n",
      "41\n",
      "42\n",
      "Fizz\n",
      "43\n",
      "44\n",
      "45\n",
      "FizzBuzz\n",
      "46\n",
      "47\n",
      "48\n",
      "Fizz\n",
      "49\n",
      "50\n",
      "Buzz\n",
      "51\n",
      "Fizz\n",
      "52\n",
      "53\n",
      "54\n",
      "Fizz\n",
      "55\n",
      "Buzz\n",
      "56\n",
      "57\n",
      "Fizz\n",
      "58\n",
      "59\n",
      "60\n",
      "FizzBuzz\n",
      "61\n",
      "62\n",
      "63\n",
      "Fizz\n",
      "64\n",
      "65\n",
      "Buzz\n",
      "66\n",
      "Fizz\n",
      "67\n",
      "68\n",
      "69\n",
      "Fizz\n",
      "70\n",
      "Buzz\n",
      "71\n",
      "72\n",
      "Fizz\n",
      "73\n",
      "74\n",
      "75\n",
      "FizzBuzz\n",
      "76\n",
      "77\n",
      "78\n",
      "Fizz\n",
      "79\n",
      "80\n",
      "Buzz\n",
      "81\n",
      "Fizz\n",
      "82\n",
      "83\n",
      "84\n",
      "Fizz\n",
      "85\n",
      "Buzz\n",
      "86\n",
      "87\n",
      "Fizz\n",
      "88\n",
      "89\n",
      "90\n",
      "FizzBuzz\n",
      "91\n",
      "92\n",
      "93\n",
      "Fizz\n",
      "94\n",
      "95\n",
      "Buzz\n",
      "96\n",
      "Fizz\n",
      "97\n",
      "98\n",
      "99\n",
      "Fizz\n",
      "100\n",
      "Buzz\n"
     ]
    }
   ],
   "source": [
    "#Code in this cell\n",
    "x=list(range(1,101)) ### make list for range 1 to 100\n",
    "for i in x:\n",
    "    print(i)\n",
    "    \n",
    "    if i %3 == 0 and i %5 == 0: ### multiples of both three and five\n",
    "        print('FizzBuzz')\n",
    "    elif i %5 == 0:             ### multiples of five\n",
    "        print('Buzz') \n",
    "    elif i %3 == 0:            ### multiples of three\n",
    "        print('Fizz')"
   ]
  },
  {
   "cell_type": "markdown",
   "metadata": {},
   "source": [
    "____\n",
    "**Use List Comprehension to create a list of the first letters of every word in the string below:**"
   ]
  },
  {
   "cell_type": "code",
   "execution_count": 28,
   "metadata": {},
   "outputs": [],
   "source": [
    "st = 'Create a list of the first letters of every word in this string'"
   ]
  },
  {
   "cell_type": "code",
   "execution_count": 32,
   "metadata": {},
   "outputs": [
    {
     "name": "stdout",
     "output_type": "stream",
     "text": [
      "Create a list of the first letters of every word in this string\n",
      "Create a list of the first letters of every word in this string\n",
      "Create a list of the first letters of every word in this string\n",
      "Create a list of the first letters of every word in this string\n",
      "Create a list of the first letters of every word in this string\n",
      "Create a list of the first letters of every word in this string\n",
      "Create a list of the first letters of every word in this string\n",
      "Create a list of the first letters of every word in this string\n",
      "Create a list of the first letters of every word in this string\n",
      "Create a list of the first letters of every word in this string\n",
      "Create a list of the first letters of every word in this string\n",
      "Create a list of the first letters of every word in this string\n",
      "Create a list of the first letters of every word in this string\n",
      "Create a list of the first letters of every word in this string\n",
      "Create a list of the first letters of every word in this string\n",
      "Create a list of the first letters of every word in this string\n",
      "Create a list of the first letters of every word in this string\n",
      "Create a list of the first letters of every word in this string\n",
      "Create a list of the first letters of every word in this string\n",
      "Create a list of the first letters of every word in this string\n",
      "Create a list of the first letters of every word in this string\n",
      "Create a list of the first letters of every word in this string\n",
      "Create a list of the first letters of every word in this string\n",
      "Create a list of the first letters of every word in this string\n",
      "Create a list of the first letters of every word in this string\n",
      "Create a list of the first letters of every word in this string\n",
      "Create a list of the first letters of every word in this string\n",
      "Create a list of the first letters of every word in this string\n",
      "Create a list of the first letters of every word in this string\n",
      "Create a list of the first letters of every word in this string\n",
      "Create a list of the first letters of every word in this string\n",
      "Create a list of the first letters of every word in this string\n",
      "Create a list of the first letters of every word in this string\n",
      "Create a list of the first letters of every word in this string\n",
      "Create a list of the first letters of every word in this string\n",
      "Create a list of the first letters of every word in this string\n",
      "Create a list of the first letters of every word in this string\n",
      "Create a list of the first letters of every word in this string\n",
      "Create a list of the first letters of every word in this string\n",
      "Create a list of the first letters of every word in this string\n",
      "Create a list of the first letters of every word in this string\n",
      "Create a list of the first letters of every word in this string\n",
      "Create a list of the first letters of every word in this string\n",
      "Create a list of the first letters of every word in this string\n",
      "Create a list of the first letters of every word in this string\n",
      "Create a list of the first letters of every word in this string\n",
      "Create a list of the first letters of every word in this string\n",
      "Create a list of the first letters of every word in this string\n",
      "Create a list of the first letters of every word in this string\n",
      "Create a list of the first letters of every word in this string\n",
      "Create a list of the first letters of every word in this string\n",
      "Create a list of the first letters of every word in this string\n",
      "Create a list of the first letters of every word in this string\n",
      "Create a list of the first letters of every word in this string\n",
      "Create a list of the first letters of every word in this string\n",
      "Create a list of the first letters of every word in this string\n",
      "Create a list of the first letters of every word in this string\n",
      "Create a list of the first letters of every word in this string\n",
      "Create a list of the first letters of every word in this string\n",
      "Create a list of the first letters of every word in this string\n",
      "Create a list of the first letters of every word in this string\n",
      "Create a list of the first letters of every word in this string\n",
      "Create a list of the first letters of every word in this string\n"
     ]
    }
   ],
   "source": [
    "#Code in this cell\n"
   ]
  },
  {
   "cell_type": "markdown",
   "metadata": {},
   "source": [
    "### Great Job!"
   ]
  }
 ],
 "metadata": {
  "kernelspec": {
   "display_name": "Python 3 (ipykernel)",
   "language": "python",
   "name": "python3"
  },
  "language_info": {
   "codemirror_mode": {
    "name": "ipython",
    "version": 3
   },
   "file_extension": ".py",
   "mimetype": "text/x-python",
   "name": "python",
   "nbconvert_exporter": "python",
   "pygments_lexer": "ipython3",
   "version": "3.9.12"
  }
 },
 "nbformat": 4,
 "nbformat_minor": 1
}
