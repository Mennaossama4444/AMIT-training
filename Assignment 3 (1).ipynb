{
 "cells": [
  {
   "cell_type": "markdown",
   "metadata": {},
   "source": [
    "# Assignment 3"
   ]
  },
  {
   "cell_type": "markdown",
   "metadata": {},
   "source": [
    "### Write a function to count the number 4 in a given list."
   ]
  },
  {
   "cell_type": "code",
   "execution_count": 58,
   "metadata": {},
   "outputs": [],
   "source": [
    "def count(nums):\n",
    "    \n",
    "        count=nums.count(4)    \n",
    "        return count\n",
    "    "
   ]
  },
  {
   "cell_type": "code",
   "execution_count": 59,
   "metadata": {},
   "outputs": [
    {
     "data": {
      "text/plain": [
       "3"
      ]
     },
     "execution_count": 59,
     "metadata": {},
     "output_type": "execute_result"
    }
   ],
   "source": [
    "x=[1,2,3,4,5,4,6,4]\n",
    " count(x)"
   ]
  },
  {
   "cell_type": "markdown",
   "metadata": {},
   "source": [
    "### write a  function to check whether a number is divisible by another number."
   ]
  },
  {
   "cell_type": "code",
   "execution_count": 57,
   "metadata": {},
   "outputs": [
    {
     "name": "stdout",
     "output_type": "stream",
     "text": [
      "True\n",
      "False\n"
     ]
    }
   ],
   "source": [
    "def check(no1, no2):\n",
    "    \n",
    "    if no1 % no2 == 0:\n",
    "        return 'True'\n",
    "    else:\n",
    "        return 'False'\n",
    "\n",
    "print(check(20, 5))\n",
    "print(check(7, 2))"
   ]
  },
  {
   "cell_type": "markdown",
   "metadata": {},
   "source": [
    "### write a function to find the maximum and minimum numbers from a sequence of numbers."
   ]
  },
  {
   "cell_type": "code",
   "execution_count": 64,
   "metadata": {},
   "outputs": [
    {
     "name": "stdout",
     "output_type": "stream",
     "text": [
      "(86, 0)\n"
     ]
    }
   ],
   "source": [
    "\n",
    "def max_min(nums):\n",
    "    max = nums[0]\n",
    "    min = nums[0]\n",
    "    for i in nums:\n",
    "        if i> max:\n",
    "            max = i\n",
    "        elif i< min:\n",
    "            min = i\n",
    "    return max, min\n",
    "\n",
    "print(max_min([9,34,70,86,0]))"
   ]
  },
  {
   "cell_type": "markdown",
   "metadata": {},
   "source": [
    "### Write a Python function that takes two lists and returns True if they have at least one common member."
   ]
  },
  {
   "cell_type": "code",
   "execution_count": 56,
   "metadata": {},
   "outputs": [
    {
     "name": "stdout",
     "output_type": "stream",
     "text": [
      "True\n",
      "False\n"
     ]
    }
   ],
   "source": [
    "def common_data(list1, list2):\n",
    "    \n",
    "    result='False'\n",
    "    \n",
    "    for x in list1:\n",
    "        \n",
    "        for y in list2: ###search from list2 in list1\n",
    "            \n",
    "            if x==y:\n",
    "                result='True'\n",
    "                \n",
    "    return result\n",
    "                \n",
    "print(common_data([5,2,3,4,5], [5,6,7,8,9]))\n",
    "\n",
    "print(common_data([1,2,3,4,5], [6,7,8,9]))\n"
   ]
  },
  {
   "cell_type": "markdown",
   "metadata": {},
   "source": [
    "### Write a Python function to calculate the factorial of a number (a non-negative integer). The function accepts the number from the user"
   ]
  },
  {
   "cell_type": "code",
   "execution_count": 62,
   "metadata": {},
   "outputs": [],
   "source": [
    "def factorial(x):\n",
    "    if x==1:      ###start mul from 1\n",
    "        return 1\n",
    "    else:\n",
    "        return x*factorial(x-1)    ###to mul the number at previos number"
   ]
  },
  {
   "cell_type": "code",
   "execution_count": 63,
   "metadata": {},
   "outputs": [
    {
     "name": "stdout",
     "output_type": "stream",
     "text": [
      "enter a number5\n"
     ]
    },
    {
     "data": {
      "text/plain": [
       "120"
      ]
     },
     "execution_count": 63,
     "metadata": {},
     "output_type": "execute_result"
    }
   ],
   "source": [
    "y=int(input('enter a number'))\n",
    "factorial(y)"
   ]
  },
  {
   "cell_type": "markdown",
   "metadata": {},
   "source": [
    "### Write a Python function to check whether a number is in a given range.\n",
    "\n",
    "### The range is from 3 to 11\n"
   ]
  },
  {
   "cell_type": "code",
   "execution_count": 3,
   "metadata": {},
   "outputs": [
    {
     "name": "stdout",
     "output_type": "stream",
     "text": [
      " The number is in the range\n"
     ]
    }
   ],
   "source": [
    "def check_range(x):\n",
    "    \n",
    "    if x in range(3,12): ###range from 3 to 11\n",
    "         print( \" The number is in the range\")\n",
    "    else :\n",
    "        print(\"The number is't in the range\")\n",
    "        \n",
    "check_range(4)"
   ]
  },
  {
   "cell_type": "markdown",
   "metadata": {},
   "source": [
    "### Write a  program to create the multiplication table (from 1 to 10) of a number."
   ]
  },
  {
   "cell_type": "code",
   "execution_count": 12,
   "metadata": {},
   "outputs": [
    {
     "name": "stdout",
     "output_type": "stream",
     "text": [
      "3 x 1 = 5\n",
      "3 x 2 = 10\n",
      "3 x 3 = 15\n",
      "3 x 4 = 20\n",
      "3 x 5 = 25\n",
      "3 x 6 = 30\n",
      "3 x 7 = 35\n",
      "3 x 8 = 40\n",
      "3 x 9 = 45\n",
      "3 x 10 = 50\n"
     ]
    }
   ],
   "source": [
    "def mul(num):\n",
    "    \n",
    "    for i in range(1,11):\n",
    "        print(num,'x',i,'=',no*i)  ###the formate of the table\n",
    "        \n",
    "        \n",
    "mul(3)"
   ]
  },
  {
   "cell_type": "markdown",
   "metadata": {},
   "source": [
    "#### LESSER OF TWO EVENS: Write a function that returns the lesser of two given numbers *if* both numbers are even, but returns the greater if one or both numbers are odd\n",
    "    lesser_of_two_evens(2,4) --> 2\n",
    "    lesser_of_two_evens(2,5) --> 5"
   ]
  },
  {
   "cell_type": "code",
   "execution_count": 57,
   "metadata": {},
   "outputs": [
    {
     "name": "stdout",
     "output_type": "stream",
     "text": [
      "2\n"
     ]
    }
   ],
   "source": [
    "def check(a,b):\n",
    "    \n",
    "    if (a % 2 or b % 2) != 0:  ###if 1 no is odd\n",
    "        if b > a:\n",
    "            print (b)\n",
    "        else:\n",
    "            print (a)\n",
    "            \n",
    "    if (a%2 and b%2)==0: ###the 2 nums are even\n",
    "            \n",
    "        if a < b:     ### the no1 is smaller than no2\n",
    "            print (a)          \n",
    "        else:\n",
    "            print (b)\n",
    "                \n",
    "\n",
    "\n",
    "check(2,4)"
   ]
  },
  {
   "cell_type": "code",
   "execution_count": null,
   "metadata": {},
   "outputs": [],
   "source": []
  }
 ],
 "metadata": {
  "kernelspec": {
   "display_name": "Python 3 (ipykernel)",
   "language": "python",
   "name": "python3"
  },
  "language_info": {
   "codemirror_mode": {
    "name": "ipython",
    "version": 3
   },
   "file_extension": ".py",
   "mimetype": "text/x-python",
   "name": "python",
   "nbconvert_exporter": "python",
   "pygments_lexer": "ipython3",
   "version": "3.9.12"
  }
 },
 "nbformat": 4,
 "nbformat_minor": 2
}
